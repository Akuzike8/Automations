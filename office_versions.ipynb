{
 "cells": [
  {
   "cell_type": "markdown",
   "metadata": {},
   "source": [
    "\n",
    "_____________________________________________________\n",
    "|Nr\t    |Office Version                             |\n",
    "|_______|___________________________________________|\n",
    "|11.0\t|Office 2003                                |\n",
    "|12.0\t|Office 2007                                |\n",
    "|14.0\t|Office 2010                                |\n",
    "|15.0\t|Office 2013                                |\n",
    "|16.0\t|Office 2016+(2019 or 2022 or MS365 version)|\n",
    "|___________________________________________________|"
   ]
  },
  {
   "cell_type": "code",
   "execution_count": null,
   "metadata": {
    "vscode": {
     "languageId": "plaintext"
    }
   },
   "outputs": [],
   "source": [
    "Current Channel: Version 2405 (Build 17628.20144)\n",
    "Monthly Enterprise Channel: Version 2404 (Build 17531.20190)\n",
    "Monthly Enterprise Channel: Version 2403 (Build 17425.20258)\n",
    "Semi-Annual Enterprise Channel (Preview): Version 2402 (Build 17328.20414)\n",
    "Semi-Annual Enterprise Channel: Version 2308 (Build 16731.20716)\n",
    "Semi-Annual Enterprise Channel: Version 2302 (Build 16130.21026)\n",
    "Office 2021 Retail: Version 2405 (Build 17628.20144)\n",
    "Office 2019 Retail: Version 2405 (Build 17628.20144)\n",
    "Office 2016 Retail: Version 2405 (Build 17628.20144)\n",
    "Office LTSC 2021 Volume Licensed: Version 2108 (Build 14332.20721)\n",
    "Office 2019 Volume Licensed: Version 1808 (Build 10411.20011)"
   ]
  },
  {
   "cell_type": "code",
   "execution_count": null,
   "metadata": {
    "vscode": {
     "languageId": "plaintext"
    }
   },
   "outputs": [],
   "source": [
    "Host,office_version\n",
    "NHLAUDIT3,16.0.17628.20144\n",
    "NHLSAGE300ERP,16.0.13127.20616\n",
    "NICOESS,16.0.16731.20234\n",
    "NTBT1-NTECH055,16.0.13127.20616\n",
    "NTBT1-NTLP268,16.0.17628.20144\n",
    "NCACCPAC,16.0.13127.20616\n",
    "NTBT1-NTLP020,16.0.9029.2167\n",
    "NTBT2-NTLP422,16.0.17628.20144\n",
    "NGBROKERWEB,16.0.17628.20144\n",
    "NTBT1-NTLP735,16.0.17628.20110\n",
    "NTBT2-NTLP761,16.0.17628.20144\n",
    "NTBT1-NHHIR52,16.0.17628.20144\n"
   ]
  }
 ],
 "metadata": {
  "language_info": {
   "name": "python"
  }
 },
 "nbformat": 4,
 "nbformat_minor": 2
}
