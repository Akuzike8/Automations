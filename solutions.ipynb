{
 "cells": [
  {
   "cell_type": "code",
   "execution_count": 8,
   "metadata": {},
   "outputs": [],
   "source": [
    "from pandas import read_csv\n",
    "\n",
    "file = read_csv(\"computers.csv\")\n",
    "file = file.filter([\"Name\",\"Last user\"])\n",
    "file[\"Last user\"] = file[\"Last user\"].str.lower()\n",
    "\n",
    "file2 = read_csv(\"NG_computers.csv\")\n",
    "file2 = file2.filter([\"User\",\"Asset Type\"])\n",
    "file2[\"User\"] = file2[\"User\"].str.lower()\n",
    "file2[\"User\"] = file2[\"User\"].str.replace(\" \",\".\")\n",
    "computers = []\n",
    "\n",
    "for i, item in file2.iterrows():\n",
    "    for j, record in file.iterrows():\n",
    "        \n",
    "        if(item[\"User\"] == record[\"Last user\"]):\n",
    "            computers.append(record[\"Name\"])\n",
    "            break\n",
    "out = \"\"\n",
    "\n",
    "for computer in computers:\n",
    "    out += computer + \"\\n\"\n",
    "\n",
    "with open(\"NG_output_computers\",\"wb\") as output:\n",
    "    out = out.encode()\n",
    "    output.write(out)\n",
    "\n"
   ]
  },
  {
   "cell_type": "code",
   "execution_count": null,
   "metadata": {},
   "outputs": [],
   "source": [
    "ansible-vault encrypt_string --vault-id my_user@prompt '' --name 'ansible_password'"
   ]
  },
  {
   "cell_type": "markdown",
   "metadata": {},
   "source": [
    "ansible_password: !vault |\n",
    "          $ANSIBLE_VAULT;1.2;AES256;my_user\n",
    "          30333265323364353133623062373335386462626263666631646437303539323539326162373965\n",
    "          6463623864306134643531343238663665383739663862620a306235646466306136663261383466\n",
    "          35323331616337336462303561623839303862623830333837333232343766333463383132353162\n",
    "          3931333037393663350a383566343130656539316139396162326266396464356663396264393665\n",
    "          3765"
   ]
  },
  {
   "cell_type": "code",
   "execution_count": null,
   "metadata": {},
   "outputs": [],
   "source": [
    "sudo realm -v discover nicodc.nico.local"
   ]
  }
 ],
 "metadata": {
  "kernelspec": {
   "display_name": "Python 3",
   "language": "python",
   "name": "python3"
  },
  "language_info": {
   "codemirror_mode": {
    "name": "ipython",
    "version": 3
   },
   "file_extension": ".py",
   "mimetype": "text/x-python",
   "name": "python",
   "nbconvert_exporter": "python",
   "pygments_lexer": "ipython3",
   "version": "3.12.0"
  }
 },
 "nbformat": 4,
 "nbformat_minor": 2
}
