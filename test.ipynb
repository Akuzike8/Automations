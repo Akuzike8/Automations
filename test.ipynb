{
 "cells": [
  {
   "cell_type": "code",
   "execution_count": null,
   "metadata": {},
   "outputs": [],
   "source": [
    "from Crypto.Hash import SHA256\n",
    "\n",
    "actions = [b'block',b'unblock',b'quarantine',b'unquarantine',b'host restart',b'wazuh restart']\n",
    "\n",
    "action_key = {hash.decode(): SHA256.new(hash).hexdigest() for hash in actions}\n",
    "action_key"
   ]
  },
  {
   "cell_type": "code",
   "execution_count": null,
   "metadata": {},
   "outputs": [],
   "source": [
    "orgID = [b'root',b'OILK0',b'OV8LG',b'OATOG']\n",
    "orgName = ['root','Eris','Nbs','Nico']\n",
    "\n",
    "velociraptor_orgs = {orgName[n]: SHA256.new(orgID[n]).hexdigest() for n in range(len(orgID))}\n",
    "velociraptor_orgs"
   ]
  },
  {
   "cell_type": "code",
   "execution_count": null,
   "metadata": {},
   "outputs": [],
   "source": [
    "import sqlite3\n",
    "\n",
    "con = sqlite3.connect(\"velociraptor_orgs\")\n",
    "db = con.cursor()"
   ]
  },
  {
   "cell_type": "code",
   "execution_count": null,
   "metadata": {},
   "outputs": [],
   "source": [
    "# Create organization table\n",
    "db.execute(\"CREATE TABLE IF NOT EXISTS  orgs('tenant_id','name','hash')\")\n",
    "db.execute(\"INSERT INTO orgs VALUES('root','root','4813494d137e1631bba301d5acab6e7bb7aa74ce1185d456565ef51d737677b2'),('OILK0','Eris','f08560478faa906ac431a301e8891358ce87358e9afeafe21ffc729521ead876'),('OV8LG','Nbs','0c5509358b879ece194a71004ef0c7f9edaf2c75d8c853d8c88c9f4d32dba729'),('OATOG','Nico','336442ecf0891552833cc9f63f1434f3f839b0b0671b2ec708182c5ad6a264c6')\")"
   ]
  },
  {
   "cell_type": "code",
   "execution_count": null,
   "metadata": {},
   "outputs": [],
   "source": [
    "# Select all tenants\n",
    "db.execute(\"SELECT * FROM orgs;\")\n",
    "db.fetchall()"
   ]
  },
  {
   "cell_type": "code",
   "execution_count": null,
   "metadata": {},
   "outputs": [],
   "source": [
    "con = sqlite3.connect(\"velociraptor_orgs\")\n",
    "dp = con.cursor()\n",
    "dp.execute(\"DROP TABLE orgs;\")"
   ]
  },
  {
   "cell_type": "code",
   "execution_count": null,
   "metadata": {},
   "outputs": [],
   "source": [
    "# Close db connection\n",
    "db.close()"
   ]
  },
  {
   "cell_type": "code",
   "execution_count": null,
   "metadata": {},
   "outputs": [],
   "source": [
    "# JWT implementation\n",
    "from jose import jwt\n",
    "import datetime\n",
    "\n",
    "# Set the access expiration time, it's set to expire in 1 year\n",
    "access_expiration = datetime.datetime.now(datetime.UTC) + datetime.timedelta(hours=8760)\n",
    "\n",
    "payload = {\n",
    "    'exp': access_expiration,\n",
    "    'api-client-id': hash,\n",
    "}\n",
    "algorithm='HS512'"
   ]
  },
  {
   "cell_type": "code",
   "execution_count": null,
   "metadata": {},
   "outputs": [],
   "source": [
    "# JWT implementation\n",
    "from jose import jwt\n",
    "from Crypto.Hash import SHA256\n",
    "import datetime\n",
    "import sqlite3\n",
    "\n",
    "# Registering API client to get API-Key\n",
    "def register():\n",
    "    id = \"root\"\n",
    "    name = b\"root\"\n",
    "    \n",
    "    # Set the access expiration time, it's set to expire in 1 year\n",
    "    access_expiration = datetime.datetime.now(datetime.UTC) + datetime.timedelta(hours=8760)\n",
    "    hash = SHA256.new(name).hexdigest()\n",
    "\n",
    "    payload = {\n",
    "    'exp': access_expiration,\n",
    "    'api-client-id': hash,\n",
    "    }\n",
    "    \n",
    "    api_key = jwt.encode(payload,algorithm='HS512',key='4813494d137e1631bba301d5acab6e7bb7aa74ce1185d456565ef51d737677b2')\n",
    "    api = api_key.split(\".\")[1:]\n",
    "    api_key = \".\".join(api) \n",
    "    print(id,api_key)\n",
    "    con = sqlite3.connect(\"velociraptor_orgs\")\n",
    "    db = con.cursor()\n",
    "    db.execute(\"INSERT INTO orgs VALUES(?,?)\",(id,name))\n",
    "    db.execute(\"INSERT INTO orgs_keys VALUES(?,?)\",(id,api_key))\n",
    "    db.close()\n",
    "\n",
    "register()\n"
   ]
  },
  {
   "cell_type": "code",
   "execution_count": 14,
   "metadata": {},
   "outputs": [],
   "source": [
    "import sqlite3\n",
    "\n",
    "con = sqlite3.connect(\"velociraptor_orgs\")\n",
    "db = con.cursor()\n",
    "db.execute(\"CREATE TABLE IF NOT EXISTS  orgs('id','name')\")\n",
    "da = con.cursor()\n",
    "da.execute(\"CREATE TABLE IF NOT EXISTS  orgs_keys('id','api_key')\")\n",
    "db.close()\n",
    "da.close()"
   ]
  },
  {
   "cell_type": "code",
   "execution_count": 16,
   "metadata": {},
   "outputs": [
    {
     "name": "stdout",
     "output_type": "stream",
     "text": [
      "[]\n"
     ]
    }
   ],
   "source": [
    "import sqlite3\n",
    "con = sqlite3.connect(\"velociraptor_orgs\")\n",
    "db = con.cursor()\n",
    "db.execute(\"SELECT * FROM orgs_keys;\")\n",
    "data = db.fetchall()\n",
    "db.close()\n",
    "print(data)"
   ]
  },
  {
   "cell_type": "code",
   "execution_count": null,
   "metadata": {},
   "outputs": [],
   "source": [
    "def require_api_key():\n",
    "        con = sqlite3.connect(\"velociraptor_orgs\")\n",
    "        db = con.cursor()\n",
    "        db.execute(\"SELECT * FROM orgs_keys;\")\n",
    "        keys = db.fetchall()\n",
    "        api_key = \"eyJleHAiOjE3NTA5MjE3NDYsImFwaS1jbGllbnQtaWQiOiI0ODEzNDk0ZDEzN2UxNjMxYmJhMzAxZDVhY2FiNmU3YmI3YWE3NGNlMTE4NWQ0NTY1NjVlZjUxZDczNzY3N2IyIn0.-xNiUqg61eUKTEtQ_3TPPFJSLVbR8RT0Zqf0oq_YYw3dAgv_wXN3vYSmtA6UF0c97jkfqNK0KYEhQ_NpgaFvgQ\"\n",
    "        found = False\n",
    "\n",
    "        for key in keys:\n",
    "            if key[1] == api_key:\n",
    "                found = True\n",
    "\n",
    "        header = \"eyJhbGciOiJIUzUxMiIsInR5cCI6IkpXVCJ9\"\n",
    "        token = header + \".\" + api_key\n",
    "\n",
    "        res = jwt.decode(token)\n",
    "        print(res)\n",
    "require_api_key()"
   ]
  },
  {
   "cell_type": "code",
   "execution_count": null,
   "metadata": {},
   "outputs": [],
   "source": [
    "def require_api_key(view_func):\n",
    "    def decorated_function(*args, **kwargs):\n",
    "        con = sqlite3.connect(\"velociraptor_orgs\")\n",
    "        db = con.cursor()\n",
    "        db.execute(\"SELECT * FROM orgs_keys;\")\n",
    "        keys = db.fetchall()\n",
    "        api_key = request.headers.get('Authorization')\n",
    "        found = False\n",
    "\n",
    "        for key in keys:\n",
    "            if key[1] == api_key:\n",
    "                found = True\n",
    "\n",
    "        header = \"eyJhbGciOiJIUzUxMiIsInR5cCI6IkpXVCJ9\"\n",
    "        token = header + \".\" + api_key\n",
    "\n",
    "        res = jwt.decode(token)\n",
    "        print(res)\n",
    "        if request.headers.get('Authorization') == API_KEY:\n",
    "            return view_func(*args, **kwargs)\n",
    "        else:\n",
    "            return jsonify(message='Unauthorized access'), 401\n",
    "\n",
    "    return decorated_function"
   ]
  }
 ],
 "metadata": {
  "kernelspec": {
   "display_name": "Python 3",
   "language": "python",
   "name": "python3"
  },
  "language_info": {
   "codemirror_mode": {
    "name": "ipython",
    "version": 3
   },
   "file_extension": ".py",
   "mimetype": "text/x-python",
   "name": "python",
   "nbconvert_exporter": "python",
   "pygments_lexer": "ipython3",
   "version": "3.12.4"
  }
 },
 "nbformat": 4,
 "nbformat_minor": 2
}
